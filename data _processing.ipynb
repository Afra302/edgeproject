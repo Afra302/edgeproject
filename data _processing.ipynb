{
 "cells": [
  {
   "cell_type": "code",
   "execution_count": 2,
   "id": "6b0a626e-930c-487b-a8f7-3d2e082c64a8",
   "metadata": {},
   "outputs": [],
   "source": [
    "import pandas as pd\n",
    "import numpy as np\n",
    "from sklearn.preprocessing import MinMaxScaler, LabelEncoder"
   ]
  },
  {
   "cell_type": "code",
   "execution_count": 5,
   "id": "18e35e34-783e-4d4b-a4d3-ea91cee257fb",
   "metadata": {},
   "outputs": [
    {
     "name": "stdout",
     "output_type": "stream",
     "text": [
      "   Height  Weight  Gender\n",
      "0     160      55    Male\n",
      "1     170      65  Female\n",
      "2     190      70  Female\n",
      "3     180      80    Male\n"
     ]
    }
   ],
   "source": [
    "data={\n",
    "    'Height': [160, 170, 190, 180],\n",
    "    'Weight': [55, 65, 70, 80],\n",
    "    'Gender': ['Male', 'Female', 'Female', 'Male'],\n",
    "}\n",
    "df=pd.DataFrame(data)\n",
    "print(df)"
   ]
  },
  {
   "cell_type": "code",
   "execution_count": 6,
   "id": "38e0fb00-428b-4d30-86e5-d9d6c3fec060",
   "metadata": {},
   "outputs": [
    {
     "name": "stdout",
     "output_type": "stream",
     "text": [
      "0    1\n",
      "1    0\n",
      "2    0\n",
      "3    1\n",
      "Name: Gender, dtype: int32\n"
     ]
    }
   ],
   "source": [
    "le= LabelEncoder()\n",
    "df ['Gender']= le.fit_transform(df['Gender'])\n",
    "print(df['Gender'])"
   ]
  },
  {
   "cell_type": "code",
   "execution_count": 7,
   "id": "8885496a-2d00-4c5b-bd44-315a2d7a7b62",
   "metadata": {},
   "outputs": [
    {
     "name": "stdout",
     "output_type": "stream",
     "text": [
      "     Height  Weight  Gender\n",
      "0  0.000000     0.0     1.0\n",
      "1  0.333333     0.4     0.0\n",
      "2  1.000000     0.6     0.0\n",
      "3  0.666667     1.0     1.0\n"
     ]
    }
   ],
   "source": [
    "scaler= MinMaxScaler()\n",
    "scaled= scaler.fit_transform(df)\n",
    "scaled_df= pd.DataFrame(scaled, columns=['Height', 'Weight','Gender'])\n",
    "print(scaled_df)"
   ]
  },
  {
   "cell_type": "code",
   "execution_count": null,
   "id": "ad88730c-763f-4682-93c6-b771ad907d81",
   "metadata": {},
   "outputs": [],
   "source": []
  }
 ],
 "metadata": {
  "kernelspec": {
   "display_name": "Python 3 (ipykernel)",
   "language": "python",
   "name": "python3"
  },
  "language_info": {
   "codemirror_mode": {
    "name": "ipython",
    "version": 3
   },
   "file_extension": ".py",
   "mimetype": "text/x-python",
   "name": "python",
   "nbconvert_exporter": "python",
   "pygments_lexer": "ipython3",
   "version": "3.12.7"
  }
 },
 "nbformat": 4,
 "nbformat_minor": 5
}
